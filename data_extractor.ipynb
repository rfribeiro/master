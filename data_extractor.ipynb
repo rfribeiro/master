{
 "cells": [
  {
   "cell_type": "code",
   "execution_count": 50,
   "metadata": {
    "collapsed": false
   },
   "outputs": [],
   "source": [
    "%matplotlib inline\n",
    "\n",
    "import glob\n",
    "import pandas as pd\n",
    "import yaml\n",
    "import numpy as np\n",
    "import cv2\n",
    "import time"
   ]
  },
  {
   "cell_type": "code",
   "execution_count": 51,
   "metadata": {
    "collapsed": true
   },
   "outputs": [],
   "source": [
    "get_face_rect = False"
   ]
  },
  {
   "cell_type": "code",
   "execution_count": 52,
   "metadata": {
    "collapsed": false
   },
   "outputs": [],
   "source": [
    "path = '.'\n",
    "prefix = '.\\\\'\n",
    "wildcard = '\\\\*_'\n",
    "persons = [\"p{:03d}\".format(i) for i in range(1,5)]\n",
    "classes = [i for i in range(1,5)]\n",
    "suffix = '_*_{:d}.bmp'\n",
    "type = ['depth', 'ir1', 'ir2', 'rgb']"
   ]
  },
  {
   "cell_type": "code",
   "execution_count": 53,
   "metadata": {
    "collapsed": false
   },
   "outputs": [],
   "source": [
    "#p021 - class 3/4 errada"
   ]
  },
  {
   "cell_type": "code",
   "execution_count": 54,
   "metadata": {
    "collapsed": false
   },
   "outputs": [],
   "source": [
    "face_rect = [[120, 35],[120, 35], [80,35], [90, 30]]\n",
    "face_window = 180"
   ]
  },
  {
   "cell_type": "code",
   "execution_count": 55,
   "metadata": {
    "collapsed": true
   },
   "outputs": [],
   "source": [
    "def get_face_rect_default(pclass, person, data, files_list):\n",
    "    if len(files_list) >= 4:\n",
    "        sample = [pclass, person]\n",
    "        for i in range(4):\n",
    "            sample.append(files_list[i])\n",
    "            sample.append(face_rect[i][1])\n",
    "            sample.append(face_rect[i][0])\n",
    "            sample.append(face_rect[i][1]+face_window)\n",
    "            sample.append(face_rect[i][0]+face_window)\n",
    "        #print(sample)\n",
    "        data.append(sample)"
   ]
  },
  {
   "cell_type": "code",
   "execution_count": 56,
   "metadata": {
    "collapsed": true
   },
   "outputs": [],
   "source": [
    "face_cascade = cv2.CascadeClassifier('haarcascade_frontalface_default.xml')\n",
    "def get_face_rectangle_viola_jones(pclass, person, data, files_list):\n",
    "    images = []\n",
    "    if len(files_list) >= 4:\n",
    "        images = []\n",
    "        for i in range(4):\n",
    "            image = cv2.imread(files_list[i],0)\n",
    "            #print(image.shape, face_rect[i][1], face_rect[i][1]+face_window,face_rect[i][0],face_rect[i][0]+face_window)\n",
    "            \n",
    "            image = image[face_rect[i][1]:face_rect[i][1]+face_window,face_rect[i][0]:face_rect[i][0]+face_window]\n",
    "            images.append(image)\n",
    "           \n",
    "        img_concat = np.concatenate((images[0], images[1],images[2],images[3]), axis = 1)\n",
    "        \n",
    "        faces = face_cascade.detectMultiScale(images[2], 1.2,4,minSize=(60, 60), maxSize=(100, 100))\n",
    "        print(type(faces), len(faces))\n",
    "        for (x,y,w,h) in faces:\n",
    "            print(x,y,x+w,y+h,w,h )\n",
    "            cv2.rectangle(img_concat,(x,y),(x+w,y+h),(255,0,0),2)\n",
    "            \n",
    "        # save face rectangle in file\n",
    "        \n",
    "        if show_img == True:\n",
    "            cv2.imshow(pattern,img_concat)\n",
    "            cv2.waitKey(0)\n",
    "            cv2.destroyAllWindows()  \n",
    "            \n",
    "        face_rect = [[120, 35],[120, 35], [80,35], [90, 30]]"
   ]
  },
  {
   "cell_type": "code",
   "execution_count": 57,
   "metadata": {
    "collapsed": true
   },
   "outputs": [],
   "source": [
    "data = []"
   ]
  },
  {
   "cell_type": "code",
   "execution_count": 59,
   "metadata": {
    "collapsed": false
   },
   "outputs": [
    {
     "name": "stdout",
     "output_type": "stream",
     "text": [
      "8.356682835251888\n"
     ]
    }
   ],
   "source": [
    "tic = time.clock()\n",
    "for c in classes:\n",
    "    for p in persons:\n",
    "        for i in range (1,10):\n",
    "            pattern = prefix + p + wildcard + str(c) + suffix.format(i)\n",
    "            files_list = glob.glob(pattern)\n",
    "            #print(pattern, len(files_list), files_list)\n",
    "            \n",
    "            if len(files_list) > 0:\n",
    "                if get_face_rect == True:\n",
    "                    get_face_rectangle_viola_jones(c, p, data, files_list)\n",
    "                else:\n",
    "                    get_face_rect_default(c, p, data, files_list)     \n",
    "print(time.clock() - tic)"
   ]
  },
  {
   "cell_type": "code",
   "execution_count": 60,
   "metadata": {
    "collapsed": false
   },
   "outputs": [
    {
     "name": "stdout",
     "output_type": "stream",
     "text": [
      "1235\n"
     ]
    }
   ],
   "source": [
    "print(len(data))"
   ]
  },
  {
   "cell_type": "code",
   "execution_count": 61,
   "metadata": {
    "collapsed": false
   },
   "outputs": [],
   "source": [
    "# save file\n",
    "df = pd.DataFrame(data, columns = ['class','person', \n",
    "                                   'depfile_path','depxs', 'depys', 'depxe','depye',\n",
    "                                   'ir1file_path','ir1xs', 'ir1ys', 'ir1xe','ir1ye',\n",
    "                                   'ir2file_path','ir2xs', 'ir2ys', 'ir2xe','ir2ye',\n",
    "                                   'rgbfile_path','rgbxs', 'rgbys', 'rgbxe','rgbye'])\n",
    "filename = 'training.csv'\n",
    "df.to_csv(filename, index=False, encoding='utf-8')"
   ]
  },
  {
   "cell_type": "code",
   "execution_count": 62,
   "metadata": {
    "collapsed": false
   },
   "outputs": [
    {
     "data": {
      "text/html": [
       "<div>\n",
       "<table border=\"1\" class=\"dataframe\">\n",
       "  <thead>\n",
       "    <tr style=\"text-align: right;\">\n",
       "      <th></th>\n",
       "      <th>class</th>\n",
       "      <th>person</th>\n",
       "      <th>depfile_path</th>\n",
       "      <th>depxs</th>\n",
       "      <th>depys</th>\n",
       "      <th>depxe</th>\n",
       "      <th>depye</th>\n",
       "      <th>ir1file_path</th>\n",
       "      <th>ir1xs</th>\n",
       "      <th>ir1ys</th>\n",
       "      <th>...</th>\n",
       "      <th>ir2file_path</th>\n",
       "      <th>ir2xs</th>\n",
       "      <th>ir2ys</th>\n",
       "      <th>ir2xe</th>\n",
       "      <th>ir2ye</th>\n",
       "      <th>rgbfile_path</th>\n",
       "      <th>rgbxs</th>\n",
       "      <th>rgbys</th>\n",
       "      <th>rgbxe</th>\n",
       "      <th>rgbye</th>\n",
       "    </tr>\n",
       "  </thead>\n",
       "  <tbody>\n",
       "    <tr>\n",
       "      <th>0</th>\n",
       "      <td>1</td>\n",
       "      <td>p002</td>\n",
       "      <td>.\\p002\\02_1_depth_1.bmp</td>\n",
       "      <td>35</td>\n",
       "      <td>120</td>\n",
       "      <td>215</td>\n",
       "      <td>300</td>\n",
       "      <td>.\\p002\\02_1_ir1_1.bmp</td>\n",
       "      <td>35</td>\n",
       "      <td>120</td>\n",
       "      <td>...</td>\n",
       "      <td>.\\p002\\02_1_ir2_1.bmp</td>\n",
       "      <td>35</td>\n",
       "      <td>80</td>\n",
       "      <td>215</td>\n",
       "      <td>260</td>\n",
       "      <td>.\\p002\\02_1_rgb_1.bmp</td>\n",
       "      <td>30</td>\n",
       "      <td>90</td>\n",
       "      <td>210</td>\n",
       "      <td>270</td>\n",
       "    </tr>\n",
       "    <tr>\n",
       "      <th>1</th>\n",
       "      <td>1</td>\n",
       "      <td>p002</td>\n",
       "      <td>.\\p002\\02_1_depth_2.bmp</td>\n",
       "      <td>35</td>\n",
       "      <td>120</td>\n",
       "      <td>215</td>\n",
       "      <td>300</td>\n",
       "      <td>.\\p002\\02_1_ir1_2.bmp</td>\n",
       "      <td>35</td>\n",
       "      <td>120</td>\n",
       "      <td>...</td>\n",
       "      <td>.\\p002\\02_1_ir2_2.bmp</td>\n",
       "      <td>35</td>\n",
       "      <td>80</td>\n",
       "      <td>215</td>\n",
       "      <td>260</td>\n",
       "      <td>.\\p002\\02_1_rgb_2.bmp</td>\n",
       "      <td>30</td>\n",
       "      <td>90</td>\n",
       "      <td>210</td>\n",
       "      <td>270</td>\n",
       "    </tr>\n",
       "    <tr>\n",
       "      <th>2</th>\n",
       "      <td>1</td>\n",
       "      <td>p002</td>\n",
       "      <td>.\\p002\\02_1_depth_3.bmp</td>\n",
       "      <td>35</td>\n",
       "      <td>120</td>\n",
       "      <td>215</td>\n",
       "      <td>300</td>\n",
       "      <td>.\\p002\\02_1_ir1_3.bmp</td>\n",
       "      <td>35</td>\n",
       "      <td>120</td>\n",
       "      <td>...</td>\n",
       "      <td>.\\p002\\02_1_ir2_3.bmp</td>\n",
       "      <td>35</td>\n",
       "      <td>80</td>\n",
       "      <td>215</td>\n",
       "      <td>260</td>\n",
       "      <td>.\\p002\\02_1_rgb_3.bmp</td>\n",
       "      <td>30</td>\n",
       "      <td>90</td>\n",
       "      <td>210</td>\n",
       "      <td>270</td>\n",
       "    </tr>\n",
       "    <tr>\n",
       "      <th>3</th>\n",
       "      <td>1</td>\n",
       "      <td>p002</td>\n",
       "      <td>.\\p002\\02_1_depth_4.bmp</td>\n",
       "      <td>35</td>\n",
       "      <td>120</td>\n",
       "      <td>215</td>\n",
       "      <td>300</td>\n",
       "      <td>.\\p002\\02_1_ir1_4.bmp</td>\n",
       "      <td>35</td>\n",
       "      <td>120</td>\n",
       "      <td>...</td>\n",
       "      <td>.\\p002\\02_1_ir2_4.bmp</td>\n",
       "      <td>35</td>\n",
       "      <td>80</td>\n",
       "      <td>215</td>\n",
       "      <td>260</td>\n",
       "      <td>.\\p002\\02_1_rgb_4.bmp</td>\n",
       "      <td>30</td>\n",
       "      <td>90</td>\n",
       "      <td>210</td>\n",
       "      <td>270</td>\n",
       "    </tr>\n",
       "    <tr>\n",
       "      <th>4</th>\n",
       "      <td>1</td>\n",
       "      <td>p002</td>\n",
       "      <td>.\\p002\\02_1_depth_5.bmp</td>\n",
       "      <td>35</td>\n",
       "      <td>120</td>\n",
       "      <td>215</td>\n",
       "      <td>300</td>\n",
       "      <td>.\\p002\\02_1_ir1_5.bmp</td>\n",
       "      <td>35</td>\n",
       "      <td>120</td>\n",
       "      <td>...</td>\n",
       "      <td>.\\p002\\02_1_ir2_5.bmp</td>\n",
       "      <td>35</td>\n",
       "      <td>80</td>\n",
       "      <td>215</td>\n",
       "      <td>260</td>\n",
       "      <td>.\\p002\\02_1_rgb_5.bmp</td>\n",
       "      <td>30</td>\n",
       "      <td>90</td>\n",
       "      <td>210</td>\n",
       "      <td>270</td>\n",
       "    </tr>\n",
       "  </tbody>\n",
       "</table>\n",
       "<p>5 rows × 22 columns</p>\n",
       "</div>"
      ],
      "text/plain": [
       "   class person             depfile_path  depxs  depys  depxe  depye  \\\n",
       "0      1   p002  .\\p002\\02_1_depth_1.bmp     35    120    215    300   \n",
       "1      1   p002  .\\p002\\02_1_depth_2.bmp     35    120    215    300   \n",
       "2      1   p002  .\\p002\\02_1_depth_3.bmp     35    120    215    300   \n",
       "3      1   p002  .\\p002\\02_1_depth_4.bmp     35    120    215    300   \n",
       "4      1   p002  .\\p002\\02_1_depth_5.bmp     35    120    215    300   \n",
       "\n",
       "            ir1file_path  ir1xs  ir1ys  ...             ir2file_path  ir2xs  \\\n",
       "0  .\\p002\\02_1_ir1_1.bmp     35    120  ...    .\\p002\\02_1_ir2_1.bmp     35   \n",
       "1  .\\p002\\02_1_ir1_2.bmp     35    120  ...    .\\p002\\02_1_ir2_2.bmp     35   \n",
       "2  .\\p002\\02_1_ir1_3.bmp     35    120  ...    .\\p002\\02_1_ir2_3.bmp     35   \n",
       "3  .\\p002\\02_1_ir1_4.bmp     35    120  ...    .\\p002\\02_1_ir2_4.bmp     35   \n",
       "4  .\\p002\\02_1_ir1_5.bmp     35    120  ...    .\\p002\\02_1_ir2_5.bmp     35   \n",
       "\n",
       "  ir2ys  ir2xe  ir2ye           rgbfile_path  rgbxs rgbys  rgbxe  rgbye  \n",
       "0    80    215    260  .\\p002\\02_1_rgb_1.bmp     30    90    210    270  \n",
       "1    80    215    260  .\\p002\\02_1_rgb_2.bmp     30    90    210    270  \n",
       "2    80    215    260  .\\p002\\02_1_rgb_3.bmp     30    90    210    270  \n",
       "3    80    215    260  .\\p002\\02_1_rgb_4.bmp     30    90    210    270  \n",
       "4    80    215    260  .\\p002\\02_1_rgb_5.bmp     30    90    210    270  \n",
       "\n",
       "[5 rows x 22 columns]"
      ]
     },
     "execution_count": 62,
     "metadata": {},
     "output_type": "execute_result"
    }
   ],
   "source": [
    "df.head()"
   ]
  },
  {
   "cell_type": "code",
   "execution_count": 67,
   "metadata": {
    "collapsed": false
   },
   "outputs": [
    {
     "data": {
      "text/plain": [
       "(1235, 22)"
      ]
     },
     "execution_count": 67,
     "metadata": {},
     "output_type": "execute_result"
    }
   ],
   "source": [
    "df.shape"
   ]
  },
  {
   "cell_type": "code",
   "execution_count": null,
   "metadata": {
    "collapsed": false
   },
   "outputs": [],
   "source": []
  },
  {
   "cell_type": "code",
   "execution_count": null,
   "metadata": {
    "collapsed": true
   },
   "outputs": [],
   "source": []
  }
 ],
 "metadata": {
  "kernelspec": {
   "display_name": "Python 3",
   "language": "python",
   "name": "python3"
  },
  "language_info": {
   "codemirror_mode": {
    "name": "ipython",
    "version": 3
   },
   "file_extension": ".py",
   "mimetype": "text/x-python",
   "name": "python",
   "nbconvert_exporter": "python",
   "pygments_lexer": "ipython3",
   "version": "3.6.0"
  }
 },
 "nbformat": 4,
 "nbformat_minor": 2
}
