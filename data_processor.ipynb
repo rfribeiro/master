{
 "cells": [
  {
   "cell_type": "code",
   "execution_count": null,
   "metadata": {
    "collapsed": true
   },
   "outputs": [],
   "source": [
    "import time\n",
    "import pandas as pd\n",
    "import numpy as np\n",
    "import matplotlib.pyplot as plt\n",
    "\n",
    "%matplotlib inline"
   ]
  },
  {
   "cell_type": "code",
   "execution_count": null,
   "metadata": {
    "collapsed": true
   },
   "outputs": [],
   "source": [
    "# read features\n"
   ]
  },
  {
   "cell_type": "code",
   "execution_count": null,
   "metadata": {
    "collapsed": true
   },
   "outputs": [],
   "source": [
    "from sklearn.metrics import confusion_matrix\n",
    "\n",
    "def plot_confusion_matrix(cm, names, title='Confusion matrix', cmap=plt.cm.Blues):\n",
    "    plt.imshow(cm, interpolation='nearest', cmap=cmap)\n",
    "    plt.title(title)\n",
    "    plt.colorbar()\n",
    "    tick_marks = np.arange(len(names))\n",
    "    plt.xticks(tick_marks, names, rotation=45)\n",
    "    plt.yticks(tick_marks, names)\n",
    "    plt.tight_layout()\n",
    "    plt.ylabel('True label')\n",
    "    plt.xlabel('Predicted label')"
   ]
  },
  {
   "cell_type": "code",
   "execution_count": null,
   "metadata": {
    "collapsed": true
   },
   "outputs": [],
   "source": [
    "from time import time\n",
    "from sklearn.linear_model import LogisticRegression\n",
    "from sklearn.svm import SVC\n",
    "from sklearn.ensemble import RandomForestClassifier\n",
    "from sklearn.svm import LinearSVC\n",
    "from sklearn import preprocessing\n",
    "from sklearn.naive_bayes import GaussianNB\n",
    "from sklearn.metrics import confusion_matrix\n",
    "from sklearn.metrics import classification_report\n",
    "from sklearn import cross_validation\n",
    "\n",
    "def process(ds, ds2):\n",
    "    #ds.iloc[:,2:] = ds.iloc[:,2:].astype(np.float64)\n",
    "    #ds2.iloc[:,2:] = ds2.iloc[:,2:].astype(np.float64)\n",
    "    \n",
    "    print(ds.shape)\n",
    "    \n",
    "    for i in range(0,2):\n",
    "        print(\"Start processing! %d\" % (i))\n",
    "        if i==0:\n",
    "            dt_train,dt_test = ds,ds2 \n",
    "        else:\n",
    "            dt_train,dt_test = ds2,ds\n",
    "            \n",
    "        # normalize data\n",
    "        print(\"Normalizing data!\")\n",
    "        stdScale = preprocessing.StandardScaler().fit(dt_train.iloc[:,2:])\n",
    "        xTrain = stdScale.transform(dt_train.iloc[:,2:])\n",
    "        xTest = stdScale.transform(dt_test.iloc[:,2:])\n",
    "        \n",
    "        yTrain = dt_train.iloc[:,1]\n",
    "        yTest = dt_test.iloc[:,1]\n",
    "\n",
    "        print(\"Start processing Classifiers!\")\n",
    "        # Create classifiers\n",
    "        lr = LogisticRegression(C=0.7)\n",
    "        gnb = GaussianNB()\n",
    "        svc = LinearSVC(C=0.7)\n",
    "        rfc = RandomForestClassifier(n_estimators=360)\n",
    "\n",
    "        for clf, name in [(lr, 'Logistic'),\n",
    "                          (gnb, 'Naive Bayes'),\n",
    "                          (svc, 'Support Vector Classification'),\n",
    "                          (rfc, 'Random Forest')]:\n",
    "\n",
    "            print(\"Fit %s classifier!\" % (name))\n",
    "            t0 = time()\n",
    "            clf.fit(xTrain, yTrain)\n",
    "            train_time = time() - t0\n",
    "            print(\"train time: %0.3fs\" % train_time)\n",
    "\n",
    "            t0 = time()\n",
    "            yTestPred = clf.predict(xTest)\n",
    "            test_time = time() - t0\n",
    "            print(\"test time:  %0.3fs\" % test_time)\n",
    "\n",
    "            # plot confusion matrix\n",
    "            # Compute confusion matrix\n",
    "            \n",
    "            cm = confusion_matrix(yTest, yTestPred)\n",
    "            np.set_printoptions(precision=2)\n",
    "\n",
    "            # Normalize the confusion matrix by row (i.e by the number of samples in each class)\n",
    "            cm_normalized = (cm.astype('float') / cm.sum(axis=1)[:, np.newaxis])*100\n",
    "            print('Classification report')\n",
    "            print(classification_report(yTest, yTestPred, target_names=yTest.unique()))\n",
    "            print('Normalized confusion matrix')\n",
    "            print(cm_normalized)\n",
    "            plt.figure(figsize=(5, 5))\n",
    "            plot_confusion_matrix(cm_normalized, yTest.unique(), title='Normalized confusion matrix (%s)' % (name))\n",
    "\n",
    "            plt.show()\n",
    "            # plot confusion matrix"
   ]
  },
  {
   "cell_type": "code",
   "execution_count": null,
   "metadata": {
    "collapsed": true
   },
   "outputs": [],
   "source": [
    "from sklearn.decomposition import PCA\n",
    "\n",
    "pca = PCA()\n",
    "pca.fit(nds.iloc[:,2:])\n",
    "nnds = pca.transform(nds.iloc[:,2:])"
   ]
  }
 ],
 "metadata": {
  "kernelspec": {
   "display_name": "Python 3",
   "language": "python",
   "name": "python3"
  },
  "language_info": {
   "codemirror_mode": {
    "name": "ipython",
    "version": 3
   },
   "file_extension": ".py",
   "mimetype": "text/x-python",
   "name": "python",
   "nbconvert_exporter": "python",
   "pygments_lexer": "ipython3",
   "version": "3.6.0"
  }
 },
 "nbformat": 4,
 "nbformat_minor": 2
}
