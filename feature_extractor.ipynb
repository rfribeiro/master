{
 "cells": [
  {
   "cell_type": "code",
   "execution_count": 31,
   "metadata": {
    "collapsed": true
   },
   "outputs": [],
   "source": [
    "%matplotlib inline\n",
    "\n",
    "import glob\n",
    "import pandas as pd\n",
    "import yaml\n",
    "import numpy as np\n",
    "import cv2\n",
    "import time\n",
    "from skimage import exposure\n",
    "from skimage import feature\n",
    "import matplotlib.pyplot as plt"
   ]
  },
  {
   "cell_type": "code",
   "execution_count": 33,
   "metadata": {
    "collapsed": false
   },
   "outputs": [],
   "source": [
    "show_image = False\n",
    "\n",
    "def show_hog_img(img, hog_img):\n",
    "    for i in range(4):\n",
    "        hog_img[i] = exposure.rescale_intensity(hog_img[i], out_range=(0, 255))\n",
    "        hog_img[i] = hog_img[i].astype(\"uint8\")\n",
    "\n",
    "    img_concat = np.concatenate((img[0], img[1],img[2],img[3]), axis = 1)\n",
    "    img_hog_concat = np.concatenate((hog_img[0], hog_img[1],hog_img[2],hog_img[3]), axis = 1)\n",
    "    \n",
    "    img_total = np.concatenate((img_concat, img_hog_concat), axis = 0)\n",
    "    \n",
    "    fig, ax = plt.subplots(nrows=1, ncols=4)\n",
    "    for i in range(4):\n",
    "        plt.subplot(1, 4, i+1)\n",
    "        plt.hist(hog_img[i])\n",
    "    plt.show()\n",
    "\n",
    "    cv2.imshow(\"HOG Image\", img_total)\n",
    "    cv2.waitKey(0)\n",
    "    cv2.destroyAllWindows()"
   ]
  },
  {
   "cell_type": "code",
   "execution_count": 18,
   "metadata": {
    "collapsed": true
   },
   "outputs": [],
   "source": [
    "ds = pd.read_csv('training.csv', header=0)"
   ]
  },
  {
   "cell_type": "code",
   "execution_count": 19,
   "metadata": {
    "collapsed": false
   },
   "outputs": [
    {
     "data": {
      "text/html": [
       "<div>\n",
       "<table border=\"1\" class=\"dataframe\">\n",
       "  <thead>\n",
       "    <tr style=\"text-align: right;\">\n",
       "      <th></th>\n",
       "      <th>class</th>\n",
       "      <th>person</th>\n",
       "      <th>depfile_path</th>\n",
       "      <th>depxs</th>\n",
       "      <th>depys</th>\n",
       "      <th>depxe</th>\n",
       "      <th>depye</th>\n",
       "      <th>ir1file_path</th>\n",
       "      <th>ir1xs</th>\n",
       "      <th>ir1ys</th>\n",
       "      <th>...</th>\n",
       "      <th>ir2file_path</th>\n",
       "      <th>ir2xs</th>\n",
       "      <th>ir2ys</th>\n",
       "      <th>ir2xe</th>\n",
       "      <th>ir2ye</th>\n",
       "      <th>rgbfile_path</th>\n",
       "      <th>rgbxs</th>\n",
       "      <th>rgbys</th>\n",
       "      <th>rgbxe</th>\n",
       "      <th>rgbye</th>\n",
       "    </tr>\n",
       "  </thead>\n",
       "  <tbody>\n",
       "    <tr>\n",
       "      <th>0</th>\n",
       "      <td>1</td>\n",
       "      <td>p002</td>\n",
       "      <td>.\\p002\\02_1_depth_1.bmp</td>\n",
       "      <td>35</td>\n",
       "      <td>120</td>\n",
       "      <td>215</td>\n",
       "      <td>300</td>\n",
       "      <td>.\\p002\\02_1_ir1_1.bmp</td>\n",
       "      <td>35</td>\n",
       "      <td>120</td>\n",
       "      <td>...</td>\n",
       "      <td>.\\p002\\02_1_ir2_1.bmp</td>\n",
       "      <td>35</td>\n",
       "      <td>80</td>\n",
       "      <td>215</td>\n",
       "      <td>260</td>\n",
       "      <td>.\\p002\\02_1_rgb_1.bmp</td>\n",
       "      <td>30</td>\n",
       "      <td>90</td>\n",
       "      <td>210</td>\n",
       "      <td>270</td>\n",
       "    </tr>\n",
       "    <tr>\n",
       "      <th>1</th>\n",
       "      <td>1</td>\n",
       "      <td>p002</td>\n",
       "      <td>.\\p002\\02_1_depth_2.bmp</td>\n",
       "      <td>35</td>\n",
       "      <td>120</td>\n",
       "      <td>215</td>\n",
       "      <td>300</td>\n",
       "      <td>.\\p002\\02_1_ir1_2.bmp</td>\n",
       "      <td>35</td>\n",
       "      <td>120</td>\n",
       "      <td>...</td>\n",
       "      <td>.\\p002\\02_1_ir2_2.bmp</td>\n",
       "      <td>35</td>\n",
       "      <td>80</td>\n",
       "      <td>215</td>\n",
       "      <td>260</td>\n",
       "      <td>.\\p002\\02_1_rgb_2.bmp</td>\n",
       "      <td>30</td>\n",
       "      <td>90</td>\n",
       "      <td>210</td>\n",
       "      <td>270</td>\n",
       "    </tr>\n",
       "    <tr>\n",
       "      <th>2</th>\n",
       "      <td>1</td>\n",
       "      <td>p002</td>\n",
       "      <td>.\\p002\\02_1_depth_3.bmp</td>\n",
       "      <td>35</td>\n",
       "      <td>120</td>\n",
       "      <td>215</td>\n",
       "      <td>300</td>\n",
       "      <td>.\\p002\\02_1_ir1_3.bmp</td>\n",
       "      <td>35</td>\n",
       "      <td>120</td>\n",
       "      <td>...</td>\n",
       "      <td>.\\p002\\02_1_ir2_3.bmp</td>\n",
       "      <td>35</td>\n",
       "      <td>80</td>\n",
       "      <td>215</td>\n",
       "      <td>260</td>\n",
       "      <td>.\\p002\\02_1_rgb_3.bmp</td>\n",
       "      <td>30</td>\n",
       "      <td>90</td>\n",
       "      <td>210</td>\n",
       "      <td>270</td>\n",
       "    </tr>\n",
       "    <tr>\n",
       "      <th>3</th>\n",
       "      <td>1</td>\n",
       "      <td>p002</td>\n",
       "      <td>.\\p002\\02_1_depth_4.bmp</td>\n",
       "      <td>35</td>\n",
       "      <td>120</td>\n",
       "      <td>215</td>\n",
       "      <td>300</td>\n",
       "      <td>.\\p002\\02_1_ir1_4.bmp</td>\n",
       "      <td>35</td>\n",
       "      <td>120</td>\n",
       "      <td>...</td>\n",
       "      <td>.\\p002\\02_1_ir2_4.bmp</td>\n",
       "      <td>35</td>\n",
       "      <td>80</td>\n",
       "      <td>215</td>\n",
       "      <td>260</td>\n",
       "      <td>.\\p002\\02_1_rgb_4.bmp</td>\n",
       "      <td>30</td>\n",
       "      <td>90</td>\n",
       "      <td>210</td>\n",
       "      <td>270</td>\n",
       "    </tr>\n",
       "    <tr>\n",
       "      <th>4</th>\n",
       "      <td>1</td>\n",
       "      <td>p002</td>\n",
       "      <td>.\\p002\\02_1_depth_5.bmp</td>\n",
       "      <td>35</td>\n",
       "      <td>120</td>\n",
       "      <td>215</td>\n",
       "      <td>300</td>\n",
       "      <td>.\\p002\\02_1_ir1_5.bmp</td>\n",
       "      <td>35</td>\n",
       "      <td>120</td>\n",
       "      <td>...</td>\n",
       "      <td>.\\p002\\02_1_ir2_5.bmp</td>\n",
       "      <td>35</td>\n",
       "      <td>80</td>\n",
       "      <td>215</td>\n",
       "      <td>260</td>\n",
       "      <td>.\\p002\\02_1_rgb_5.bmp</td>\n",
       "      <td>30</td>\n",
       "      <td>90</td>\n",
       "      <td>210</td>\n",
       "      <td>270</td>\n",
       "    </tr>\n",
       "  </tbody>\n",
       "</table>\n",
       "<p>5 rows × 22 columns</p>\n",
       "</div>"
      ],
      "text/plain": [
       "   class person             depfile_path  depxs  depys  depxe  depye  \\\n",
       "0      1   p002  .\\p002\\02_1_depth_1.bmp     35    120    215    300   \n",
       "1      1   p002  .\\p002\\02_1_depth_2.bmp     35    120    215    300   \n",
       "2      1   p002  .\\p002\\02_1_depth_3.bmp     35    120    215    300   \n",
       "3      1   p002  .\\p002\\02_1_depth_4.bmp     35    120    215    300   \n",
       "4      1   p002  .\\p002\\02_1_depth_5.bmp     35    120    215    300   \n",
       "\n",
       "            ir1file_path  ir1xs  ir1ys  ...             ir2file_path  ir2xs  \\\n",
       "0  .\\p002\\02_1_ir1_1.bmp     35    120  ...    .\\p002\\02_1_ir2_1.bmp     35   \n",
       "1  .\\p002\\02_1_ir1_2.bmp     35    120  ...    .\\p002\\02_1_ir2_2.bmp     35   \n",
       "2  .\\p002\\02_1_ir1_3.bmp     35    120  ...    .\\p002\\02_1_ir2_3.bmp     35   \n",
       "3  .\\p002\\02_1_ir1_4.bmp     35    120  ...    .\\p002\\02_1_ir2_4.bmp     35   \n",
       "4  .\\p002\\02_1_ir1_5.bmp     35    120  ...    .\\p002\\02_1_ir2_5.bmp     35   \n",
       "\n",
       "  ir2ys  ir2xe  ir2ye           rgbfile_path  rgbxs rgbys  rgbxe  rgbye  \n",
       "0    80    215    260  .\\p002\\02_1_rgb_1.bmp     30    90    210    270  \n",
       "1    80    215    260  .\\p002\\02_1_rgb_2.bmp     30    90    210    270  \n",
       "2    80    215    260  .\\p002\\02_1_rgb_3.bmp     30    90    210    270  \n",
       "3    80    215    260  .\\p002\\02_1_rgb_4.bmp     30    90    210    270  \n",
       "4    80    215    260  .\\p002\\02_1_rgb_5.bmp     30    90    210    270  \n",
       "\n",
       "[5 rows x 22 columns]"
      ]
     },
     "execution_count": 19,
     "metadata": {},
     "output_type": "execute_result"
    }
   ],
   "source": [
    "ds.head()"
   ]
  },
  {
   "cell_type": "code",
   "execution_count": 48,
   "metadata": {
    "collapsed": true
   },
   "outputs": [],
   "source": [
    "data_hog = []"
   ]
  },
  {
   "cell_type": "code",
   "execution_count": 49,
   "metadata": {
    "collapsed": false
   },
   "outputs": [
    {
     "name": "stdout",
     "output_type": "stream",
     "text": [
      "511.85454396767443\n"
     ]
    }
   ],
   "source": [
    "def calculate_hog(row):\n",
    "    tic = time.clock()\n",
    "#for index, row in ds.iterrows():\n",
    "    print(ds.shape, len(data_hog), row['depfile_path'])\n",
    "    # improvement agrupar\n",
    "    dep = cv2.imread(row['depfile_path'],0)\n",
    "    dep = dep[row['depxs']:row['depxe'],row['depys']:row['depye']]\n",
    "    (H, dep_hog) = feature.hog(dep, orientations=9, pixels_per_cell=(4, 4),cells_per_block=(2, 2), transform_sqrt=True, visualise=True)\n",
    "    \n",
    "    ir1 = cv2.imread(row['ir1file_path'],0)\n",
    "    ir1 = ir1[row['ir1xs']:row['ir1xe'],row['ir1ys']:row['ir1ye']]\n",
    "    (H, ir1_hog) = feature.hog(ir1, orientations=9, pixels_per_cell=(4, 4),cells_per_block=(2, 2), transform_sqrt=True, visualise=True)\n",
    "\n",
    "    ir2 = cv2.imread(row['ir2file_path'],0)\n",
    "    ir2 = ir2[row['ir2xs']:row['ir2xe'],row['ir2ys']:row['ir2ye']]\n",
    "    (H, ir2_hog) = feature.hog(ir2, orientations=9, pixels_per_cell=(4, 4),cells_per_block=(2, 2), transform_sqrt=True, visualise=True)\n",
    "\n",
    "    rgb = cv2.imread(row['rgbfile_path'],0)\n",
    "    rgb = rgb[row['rgbxs']:row['rgbxe'],row['rgbys']:row['rgbye']]\n",
    "    (H, rgb_hog) = feature.hog(rgb, orientations=9, pixels_per_cell=(4, 4),cells_per_block=(2, 2), transform_sqrt=True, visualise=True)\n",
    "\n",
    "    data_hog.append([row['class'], row['person'], dep_hog.flatten(), ir1_hog.flatten(), ir2_hog.flatten(), rgb_hog.flatten()])\n",
    "    \n",
    "    if show_image == True:\n",
    "        show_hog_img([dep,ir1,ir2,rgb], [dep_hog, ir1_hog, ir2_hog, rgb_hog])\n",
    "    print(time.clock() - tic)        "
   ]
  },
  {
   "cell_type": "code",
   "execution_count": 50,
   "metadata": {
    "collapsed": false
   },
   "outputs": [
    {
     "name": "stdout",
     "output_type": "stream",
     "text": [
      "(1235, 22) 0 .\\p002\\02_1_depth_2.bmp\n",
      "(1235, 22) 1 .\\p002\\02_1_depth_3.bmp\n",
      "(1235, 22) 2 .\\p002\\02_1_depth_4.bmp\n",
      "(1235, 22) 3 .\\p002\\02_1_depth_5.bmp\n",
      "(1235, 22) 4 .\\p002\\02_1_depth_6.bmp\n",
      "(1235, 22) 5 .\\p002\\02_1_depth_7.bmp\n",
      "(1235, 22) 6 .\\p002\\02_1_depth_8.bmp\n",
      "(1235, 22) 7 .\\p002\\02_1_depth_9.bmp\n",
      "(1235, 22) 8 .\\p002\\02_1_depth_10.bmp\n"
     ]
    },
    {
     "data": {
      "text/plain": [
       "1    None\n",
       "2    None\n",
       "3    None\n",
       "4    None\n",
       "5    None\n",
       "6    None\n",
       "7    None\n",
       "8    None\n",
       "9    None\n",
       "dtype: object"
      ]
     },
     "execution_count": 50,
     "metadata": {},
     "output_type": "execute_result"
    }
   ],
   "source": [
    "ds.apply(calculate_hog, axis = 1)"
   ]
  },
  {
   "cell_type": "code",
   "execution_count": 51,
   "metadata": {
    "collapsed": false
   },
   "outputs": [
    {
     "data": {
      "text/plain": [
       "[[1, 'p002', array([ 0.        ,  0.        ,  0.        , ...,  0.        ,\n",
       "          1.99609375,  0.        ]), array([ 0.        ,  0.        ,  0.        , ...,  0.        ,\n",
       "          0.43530273,  0.        ]), array([ 0.        ,  0.        ,  0.        , ...,  0.        ,\n",
       "          0.07275391,  0.        ]), array([ 0.,  0.,  0., ...,  0.,  0.,  0.])],\n",
       " [1, 'p002', array([ 0.        ,  0.        ,  0.        , ...,  0.        ,\n",
       "          1.99609375,  0.        ]), array([ 0.        ,  0.        ,  0.        , ...,  0.        ,\n",
       "          0.41455078,  0.        ]), array([ 0.        ,  0.        ,  0.        , ...,  0.        ,\n",
       "          0.12040012,  0.        ]), array([ 0.,  0.,  0., ...,  0.,  0.,  0.])],\n",
       " [1, 'p002', array([ 0.        ,  0.        ,  0.        , ...,  0.        ,\n",
       "          0.99804688,  0.        ]), array([ 0.        ,  0.        ,  0.        , ...,  0.        ,\n",
       "          0.40600586,  0.        ]), array([ 0.      ,  0.      ,  0.      , ...,  0.      ,  0.078125,  0.      ]), array([ 0.,  0.,  0., ...,  0.,  0.,  0.])],\n",
       " [1, 'p002', array([ 0.        ,  0.        ,  0.        , ...,  0.        ,\n",
       "          1.99609375,  0.        ]), array([ 0.        ,  0.        ,  0.        , ...,  0.        ,\n",
       "          0.40527344,  0.        ]), array([ 0.        ,  0.        ,  0.        , ...,  0.        ,\n",
       "          0.11962891,  0.        ]), array([ 0.,  0.,  0., ...,  0.,  0.,  0.])],\n",
       " [1, 'p002', array([ 0.        ,  0.        ,  0.        , ...,  0.        ,\n",
       "          1.99609375,  0.        ]), array([ 0.        ,  0.        ,  0.        , ...,  0.        ,\n",
       "          0.40185547,  0.        ]), array([ 0.        ,  0.        ,  0.        , ...,  0.        ,\n",
       "          0.08056641,  0.        ]), array([ 0.,  0.,  0., ...,  0.,  0.,  0.])],\n",
       " [1,\n",
       "  'p002',\n",
       "  array([ 0.,  0.,  0., ...,  0.,  0.,  0.]),\n",
       "  array([ 0.        ,  0.        ,  0.        , ...,  0.        ,\n",
       "          0.40551758,  0.        ]),\n",
       "  array([ 0.        ,  0.        ,  0.        , ...,  0.        ,\n",
       "          0.12917304,  0.        ]),\n",
       "  array([ 0.,  0.,  0., ...,  0.,  0.,  0.])],\n",
       " [1, 'p002', array([ 0.        ,  0.        ,  0.        , ...,  0.        ,\n",
       "          1.99609375,  0.        ]), array([ 0.        ,  0.        ,  0.        , ...,  0.        ,\n",
       "          0.41455078,  0.        ]), array([ 0.        ,  0.        ,  0.        , ...,  0.        ,\n",
       "          0.08300781,  0.        ]), array([ 0.,  0.,  0., ...,  0.,  0.,  0.])],\n",
       " [1, 'p002', array([ 0.        ,  0.        ,  0.        , ...,  0.        ,\n",
       "          0.99804688,  0.        ]), array([ 0.        ,  0.        ,  0.        , ...,  0.        ,\n",
       "          0.39550781,  0.        ]), array([ 0.        ,  0.        ,  0.        , ...,  0.        ,\n",
       "          0.10506633,  0.        ]), array([ 0.,  0.,  0., ...,  0.,  0.,  0.])],\n",
       " [1, 'p002', array([ 0.        ,  0.        ,  0.        , ...,  0.        ,\n",
       "          0.99804688,  0.        ]), array([ 0.        ,  0.        ,  0.        , ...,  0.        ,\n",
       "          0.40478516,  0.        ]), array([ 0.        ,  0.        ,  0.        , ...,  0.        ,\n",
       "          0.13191414,  0.        ]), array([ 0.,  0.,  0., ...,  0.,  0.,  0.])]]"
      ]
     },
     "execution_count": 51,
     "metadata": {},
     "output_type": "execute_result"
    }
   ],
   "source": [
    "data_hog"
   ]
  },
  {
   "cell_type": "code",
   "execution_count": 52,
   "metadata": {
    "collapsed": false
   },
   "outputs": [],
   "source": [
    "# save file\n",
    "df = pd.DataFrame(data_hog, columns = ['class','person', 'dep_hog', 'ir1_hog', 'ir2_hog', 'rgb_hog'])\n",
    "filename = 'training_hog.csv'\n",
    "df.to_csv(filename, index=False, encoding='utf-8')"
   ]
  },
  {
   "cell_type": "code",
   "execution_count": 53,
   "metadata": {
    "collapsed": false
   },
   "outputs": [
    {
     "data": {
      "text/html": [
       "<div>\n",
       "<table border=\"1\" class=\"dataframe\">\n",
       "  <thead>\n",
       "    <tr style=\"text-align: right;\">\n",
       "      <th></th>\n",
       "      <th>class</th>\n",
       "      <th>person</th>\n",
       "      <th>dep_hog</th>\n",
       "      <th>ir1_hog</th>\n",
       "      <th>ir2_hog</th>\n",
       "      <th>rgb_hog</th>\n",
       "    </tr>\n",
       "  </thead>\n",
       "  <tbody>\n",
       "    <tr>\n",
       "      <th>0</th>\n",
       "      <td>1</td>\n",
       "      <td>p002</td>\n",
       "      <td>[0.0, 0.0, 0.0, 0.0, 0.0, 0.0, 0.0, 0.0, 0.0, ...</td>\n",
       "      <td>[0.0, 0.0, 0.0, 0.0, 0.0, 0.0, 0.0, 0.0, 0.0, ...</td>\n",
       "      <td>[0.0, 0.0, 0.0, 0.0, 0.0, 0.0, 0.0, 0.0, 0.0, ...</td>\n",
       "      <td>[0.0, 0.0, 0.0, 0.0, 0.0, 0.0, 0.0, 0.0, 0.0, ...</td>\n",
       "    </tr>\n",
       "    <tr>\n",
       "      <th>1</th>\n",
       "      <td>1</td>\n",
       "      <td>p002</td>\n",
       "      <td>[0.0, 0.0, 0.0, 0.0, 0.0, 0.0, 0.0, 0.0, 0.0, ...</td>\n",
       "      <td>[0.0, 0.0, 0.0, 0.0, 0.0, 0.0, 0.0, 0.0, 0.0, ...</td>\n",
       "      <td>[0.0, 0.0, 0.0, 0.0, 0.0, 0.0, 0.0, 0.0, 0.0, ...</td>\n",
       "      <td>[0.0, 0.0, 0.0, 0.0, 0.0, 0.0, 0.0, 0.0, 0.0, ...</td>\n",
       "    </tr>\n",
       "    <tr>\n",
       "      <th>2</th>\n",
       "      <td>1</td>\n",
       "      <td>p002</td>\n",
       "      <td>[0.0, 0.0, 0.0, 0.0, 0.0, 0.0, 0.0, 0.0, 0.0, ...</td>\n",
       "      <td>[0.0, 0.0, 0.0, 0.0, 0.0, 0.0, 0.0, 0.0, 0.0, ...</td>\n",
       "      <td>[0.0, 0.0, 0.0, 0.0, 0.0, 0.0, 0.0, 0.0, 0.0, ...</td>\n",
       "      <td>[0.0, 0.0, 0.0, 0.0, 0.0, 0.0, 0.0, 0.0, 0.0, ...</td>\n",
       "    </tr>\n",
       "    <tr>\n",
       "      <th>3</th>\n",
       "      <td>1</td>\n",
       "      <td>p002</td>\n",
       "      <td>[0.0, 0.0, 0.0, 0.0, 0.0, 0.0, 0.0, 0.0, 0.0, ...</td>\n",
       "      <td>[0.0, 0.0, 0.0, 0.0, 0.0, 0.0, 0.0, 0.0, 0.0, ...</td>\n",
       "      <td>[0.0, 0.0, 0.0, 0.0, 0.0, 0.0, 0.0, 0.0, 0.0, ...</td>\n",
       "      <td>[0.0, 0.0, 0.0, 0.0, 0.0, 0.0, 0.0, 0.0, 0.0, ...</td>\n",
       "    </tr>\n",
       "    <tr>\n",
       "      <th>4</th>\n",
       "      <td>1</td>\n",
       "      <td>p002</td>\n",
       "      <td>[0.0, 0.0, 0.0, 0.0, 0.0, 0.0, 0.0, 0.0, 0.0, ...</td>\n",
       "      <td>[0.0, 0.0, 0.0, 0.0, 0.0, 0.0, 0.0, 0.0, 0.0, ...</td>\n",
       "      <td>[0.0, 0.0, 0.0, 0.0, 0.0, 0.0, 0.0, 0.0, 0.0, ...</td>\n",
       "      <td>[0.0, 0.0, 0.0, 0.0, 0.0, 0.0, 0.0, 0.0, 0.0, ...</td>\n",
       "    </tr>\n",
       "  </tbody>\n",
       "</table>\n",
       "</div>"
      ],
      "text/plain": [
       "   class person                                            dep_hog  \\\n",
       "0      1   p002  [0.0, 0.0, 0.0, 0.0, 0.0, 0.0, 0.0, 0.0, 0.0, ...   \n",
       "1      1   p002  [0.0, 0.0, 0.0, 0.0, 0.0, 0.0, 0.0, 0.0, 0.0, ...   \n",
       "2      1   p002  [0.0, 0.0, 0.0, 0.0, 0.0, 0.0, 0.0, 0.0, 0.0, ...   \n",
       "3      1   p002  [0.0, 0.0, 0.0, 0.0, 0.0, 0.0, 0.0, 0.0, 0.0, ...   \n",
       "4      1   p002  [0.0, 0.0, 0.0, 0.0, 0.0, 0.0, 0.0, 0.0, 0.0, ...   \n",
       "\n",
       "                                             ir1_hog  \\\n",
       "0  [0.0, 0.0, 0.0, 0.0, 0.0, 0.0, 0.0, 0.0, 0.0, ...   \n",
       "1  [0.0, 0.0, 0.0, 0.0, 0.0, 0.0, 0.0, 0.0, 0.0, ...   \n",
       "2  [0.0, 0.0, 0.0, 0.0, 0.0, 0.0, 0.0, 0.0, 0.0, ...   \n",
       "3  [0.0, 0.0, 0.0, 0.0, 0.0, 0.0, 0.0, 0.0, 0.0, ...   \n",
       "4  [0.0, 0.0, 0.0, 0.0, 0.0, 0.0, 0.0, 0.0, 0.0, ...   \n",
       "\n",
       "                                             ir2_hog  \\\n",
       "0  [0.0, 0.0, 0.0, 0.0, 0.0, 0.0, 0.0, 0.0, 0.0, ...   \n",
       "1  [0.0, 0.0, 0.0, 0.0, 0.0, 0.0, 0.0, 0.0, 0.0, ...   \n",
       "2  [0.0, 0.0, 0.0, 0.0, 0.0, 0.0, 0.0, 0.0, 0.0, ...   \n",
       "3  [0.0, 0.0, 0.0, 0.0, 0.0, 0.0, 0.0, 0.0, 0.0, ...   \n",
       "4  [0.0, 0.0, 0.0, 0.0, 0.0, 0.0, 0.0, 0.0, 0.0, ...   \n",
       "\n",
       "                                             rgb_hog  \n",
       "0  [0.0, 0.0, 0.0, 0.0, 0.0, 0.0, 0.0, 0.0, 0.0, ...  \n",
       "1  [0.0, 0.0, 0.0, 0.0, 0.0, 0.0, 0.0, 0.0, 0.0, ...  \n",
       "2  [0.0, 0.0, 0.0, 0.0, 0.0, 0.0, 0.0, 0.0, 0.0, ...  \n",
       "3  [0.0, 0.0, 0.0, 0.0, 0.0, 0.0, 0.0, 0.0, 0.0, ...  \n",
       "4  [0.0, 0.0, 0.0, 0.0, 0.0, 0.0, 0.0, 0.0, 0.0, ...  "
      ]
     },
     "execution_count": 53,
     "metadata": {},
     "output_type": "execute_result"
    }
   ],
   "source": [
    "df.head()"
   ]
  },
  {
   "cell_type": "code",
   "execution_count": null,
   "metadata": {
    "collapsed": true
   },
   "outputs": [],
   "source": []
  }
 ],
 "metadata": {
  "kernelspec": {
   "display_name": "Python 3",
   "language": "python",
   "name": "python3"
  },
  "language_info": {
   "codemirror_mode": {
    "name": "ipython",
    "version": 3
   },
   "file_extension": ".py",
   "mimetype": "text/x-python",
   "name": "python",
   "nbconvert_exporter": "python",
   "pygments_lexer": "ipython3",
   "version": "3.6.0"
  }
 },
 "nbformat": 4,
 "nbformat_minor": 2
}
